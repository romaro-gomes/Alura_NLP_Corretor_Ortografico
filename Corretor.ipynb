{
 "cells": [
  {
   "cell_type": "markdown",
   "id": "c4223e10-8efa-4ffc-9c3a-8e7f4fda4943",
   "metadata": {},
   "source": [
    "# Corretor Ortográfico\n",
    "\n",
    "Projeto Fornecido pelo curso de NLP da Alura"
   ]
  },
  {
   "cell_type": "markdown",
   "id": "87de7192-6de5-4a47-9c0d-824d3420b4da",
   "metadata": {},
   "source": [
    "## Adquirindo os dados"
   ]
  },
  {
   "cell_type": "code",
   "execution_count": 24,
   "id": "8e1a7ca1-0096-4804-afcf-33085c0373b8",
   "metadata": {
    "tags": []
   },
   "outputs": [],
   "source": [
    "import pandas as pd\n"
   ]
  },
  {
   "cell_type": "code",
   "execution_count": 25,
   "id": "4de96b8b-b1ba-4fea-9b54-21bede7fe823",
   "metadata": {
    "tags": []
   },
   "outputs": [],
   "source": [
    "with open(\"dados/artigos.txt\", \"r\") as f:\n",
    "    artigos= f.read()"
   ]
  },
  {
   "cell_type": "code",
   "execution_count": 26,
   "id": "e9dc5f44-1509-41b4-9a51-cbd9f484e660",
   "metadata": {
    "tags": []
   },
   "outputs": [],
   "source": [
    "#artigos"
   ]
  },
  {
   "cell_type": "code",
   "execution_count": 27,
   "id": "612998cc-1855-421b-87a3-6d349582e3a4",
   "metadata": {
    "tags": []
   },
   "outputs": [
    {
     "name": "stdout",
     "output_type": "stream",
     "text": [
      "\n",
      "\n",
      "\n",
      "imagem \n",
      "\n",
      "Temos a seguinte classe que representa um usuário no nosso sistema:\n",
      "\n",
      "java\n",
      "\n",
      "Para salvar um novo usuário, várias validações são feitas, como por exemplo: Ver se o nome só contém letras, [**o CPF só números**] e ver se o usuário possui no mínimo 18 anos. Veja o método que faz essa validação:\n",
      "\n",
      "java \n",
      "\n",
      "Suponha agora que eu tenha outra classe, a classe `Produto`, que contém um atributo nome e eu quero fazer a mesma validação que fiz para o nome do usuário: Ver se só contém letras. E aí? Vou\n"
     ]
    }
   ],
   "source": [
    "print(artigos[:500])"
   ]
  },
  {
   "cell_type": "markdown",
   "id": "2bf4b912-18b7-43a6-bfcf-c7965be3fdac",
   "metadata": {},
   "source": [
    "Token é uma sequência de caracteres, separados por um limitador, que pode ser um espaço em branco, pontuação ou quebra de linhas, por exemplo."
   ]
  },
  {
   "cell_type": "markdown",
   "id": "4aeb55ac-03e0-434a-8d7f-84b204966f7b",
   "metadata": {},
   "source": [
    "## Testando a biblioteca NLTK\n",
    "\n",
    "A biblioteca nltk é uma das principais bibliotecas para estudos de linguagem natural em python"
   ]
  },
  {
   "cell_type": "code",
   "execution_count": 28,
   "id": "27edc6cd-1f70-43b3-b9bb-578c38b9db04",
   "metadata": {},
   "outputs": [],
   "source": [
    "import nltk"
   ]
  },
  {
   "cell_type": "code",
   "execution_count": 29,
   "id": "439efa6d-dbba-4690-b734-497c493d748c",
   "metadata": {},
   "outputs": [
    {
     "data": {
      "text/plain": [
       "['Olá,', 'vamos', 'jogar', 'python?']"
      ]
     },
     "execution_count": 29,
     "metadata": {},
     "output_type": "execute_result"
    }
   ],
   "source": [
    "texto_exemplo = \"Olá, vamos jogar python?\"\n",
    "texto_separado=texto_exemplo.split()\n",
    "texto_separado"
   ]
  },
  {
   "cell_type": "code",
   "execution_count": 30,
   "id": "a1bf1488-89b2-4cc9-af1e-cb9899b1c9a5",
   "metadata": {
    "tags": []
   },
   "outputs": [
    {
     "name": "stderr",
     "output_type": "stream",
     "text": [
      "[nltk_data] Downloading package punkt to /home/romario/nltk_data...\n",
      "[nltk_data]   Package punkt is already up-to-date!\n"
     ]
    },
    {
     "data": {
      "text/plain": [
       "True"
      ]
     },
     "execution_count": 30,
     "metadata": {},
     "output_type": "execute_result"
    }
   ],
   "source": [
    "nltk.download('punkt')"
   ]
  },
  {
   "cell_type": "code",
   "execution_count": 31,
   "id": "a8f54188-d4fa-4d80-a9da-d254bfcdc9b9",
   "metadata": {
    "tags": []
   },
   "outputs": [],
   "source": [
    "palavras_separadas = nltk.tokenize.word_tokenize(texto_exemplo)"
   ]
  },
  {
   "cell_type": "code",
   "execution_count": 32,
   "id": "a51ce564-67de-4faa-8ea4-d636e6bbde73",
   "metadata": {
    "tags": []
   },
   "outputs": [
    {
     "data": {
      "text/plain": [
       "['Olá', ',', 'vamos', 'jogar', 'python', '?']"
      ]
     },
     "execution_count": 32,
     "metadata": {},
     "output_type": "execute_result"
    }
   ],
   "source": [
    "palavras_separadas"
   ]
  },
  {
   "cell_type": "code",
   "execution_count": 33,
   "id": "6a6ab874-dab9-4822-8940-b333ec4b1934",
   "metadata": {},
   "outputs": [
    {
     "data": {
      "text/plain": [
       "['Olá', 'vamos', 'jogar', 'python']"
      ]
     },
     "execution_count": 33,
     "metadata": {},
     "output_type": "execute_result"
    }
   ],
   "source": [
    "def separa_palavras(lista_tokens):\n",
    "    lista_palavras=[]\n",
    "    for token in lista_tokens:\n",
    "        if token.isalpha():\n",
    "            lista_palavras.append(token)\n",
    "    return lista_palavras\n",
    "\n",
    "separa_palavras(palavras_separadas)"
   ]
  },
  {
   "cell_type": "markdown",
   "id": "2c63356d-002a-4aa5-a4c6-1ec6271502a2",
   "metadata": {},
   "source": [
    "## Aplicando as biblioteca NLTK nos artigo"
   ]
  },
  {
   "cell_type": "code",
   "execution_count": 34,
   "id": "38216bfe-c705-4fea-bdd2-991477e2fcf5",
   "metadata": {
    "tags": []
   },
   "outputs": [],
   "source": [
    "lista_tokens = nltk.tokenize.word_tokenize(artigos)\n",
    "lista_palavras = separa_palavras(lista_tokens)"
   ]
  },
  {
   "cell_type": "code",
   "execution_count": 35,
   "id": "16bb8764-d2c9-4d52-bdc5-3d9ab93c0082",
   "metadata": {
    "tags": []
   },
   "outputs": [
    {
     "data": {
      "text/plain": [
       "['imagem',\n",
       " 'Temos',\n",
       " 'a',\n",
       " 'seguinte',\n",
       " 'classe',\n",
       " 'que',\n",
       " 'representa',\n",
       " 'um',\n",
       " 'usuário',\n",
       " 'no']"
      ]
     },
     "execution_count": 35,
     "metadata": {},
     "output_type": "execute_result"
    }
   ],
   "source": [
    "lista_palavras[0:10]"
   ]
  },
  {
   "cell_type": "code",
   "execution_count": 36,
   "id": "5bad0409-c3d5-4629-8f25-365e70668cdb",
   "metadata": {
    "tags": []
   },
   "outputs": [
    {
     "data": {
      "text/plain": [
       "403104"
      ]
     },
     "execution_count": 36,
     "metadata": {},
     "output_type": "execute_result"
    }
   ],
   "source": [
    "len(lista_palavras)"
   ]
  },
  {
   "cell_type": "markdown",
   "id": "8b460f13-f6c1-44df-a101-5e06afa28dc0",
   "metadata": {},
   "source": [
    "## Tratando o texto"
   ]
  },
  {
   "cell_type": "markdown",
   "id": "aba16c37-1afe-4edb-b88e-ec1a5f8d2fa6",
   "metadata": {},
   "source": [
    "### Normalização das palavras"
   ]
  },
  {
   "cell_type": "code",
   "execution_count": 37,
   "id": "295f21f7-1dbf-44c5-88b8-9159dc279e61",
   "metadata": {
    "tags": []
   },
   "outputs": [
    {
     "name": "stdout",
     "output_type": "stream",
     "text": [
      "['imagem', 'temos', 'a', 'seguinte', 'classe']\n"
     ]
    }
   ],
   "source": [
    "def normalizacao(lista_palavras):\n",
    "    lista_normalizada = []\n",
    "    for palavra in lista_palavras:\n",
    "        lista_normalizada.append(palavra.lower())\n",
    "    return lista_normalizada\n",
    "\n",
    "lista_normalizada = normalizacao(lista_palavras)\n",
    "print(lista_normalizada[:5])"
   ]
  },
  {
   "cell_type": "markdown",
   "id": "56c688e0-161b-4126-be59-2b2d6b4310be",
   "metadata": {},
   "source": [
    "### Verificando o número de tipos de palavras\n",
    "\n",
    "A função set consegue retirar as repetições de uma listas"
   ]
  },
  {
   "cell_type": "code",
   "execution_count": 38,
   "id": "28d88269-76b7-4c66-af3f-9823fb60cbf4",
   "metadata": {
    "tags": []
   },
   "outputs": [
    {
     "data": {
      "text/plain": [
       "18465"
      ]
     },
     "execution_count": 38,
     "metadata": {},
     "output_type": "execute_result"
    }
   ],
   "source": [
    "len(set(lista_normalizada))"
   ]
  },
  {
   "cell_type": "markdown",
   "id": "73a950ed-fc35-4e0a-8a55-32643be576b6",
   "metadata": {},
   "source": [
    "## Algoritmo para separar pedaços da palavras"
   ]
  },
  {
   "cell_type": "code",
   "execution_count": 39,
   "id": "2261a336-14d1-4a91-8ba6-d5c2369b4ca6",
   "metadata": {
    "tags": []
   },
   "outputs": [],
   "source": [
    "def insere_letras(fatias):\n",
    "    novas_palavras = []\n",
    "    letras = 'abcdefghijklmnopqrstuvwxyzàáâãèéêìíîòóôõùúûç'\n",
    "    for E,D in fatias:\n",
    "        for letra in letras:\n",
    "            novas_palavras.append(E + letra + D)\n",
    "    return novas_palavras"
   ]
  },
  {
   "cell_type": "code",
   "execution_count": 40,
   "id": "e7b8a505-ac5d-4a20-9bbb-273a5938f3d2",
   "metadata": {
    "tags": []
   },
   "outputs": [],
   "source": [
    "def gerador_palavras(palavra):\n",
    "    fatias = []\n",
    "    for i in range(len(palavra)+1):\n",
    "        fatias.append((palavra[:i],palavra[i:]))\n",
    "    #print(fatias)\n",
    "    palavras_geradas = insere_letras(fatias)\n",
    "    return palavras_geradas\n"
   ]
  },
  {
   "cell_type": "code",
   "execution_count": 41,
   "id": "a294fae4-bb57-4058-8b88-0400c6566143",
   "metadata": {
    "tags": []
   },
   "outputs": [],
   "source": [
    "#Testando as funções\n",
    "#palavra_exemplo = \"lgica\"\n",
    "#gerador_palavras(palavra_exemplo)"
   ]
  },
  {
   "cell_type": "markdown",
   "id": "395c2fdd-bdf7-4b35-8a54-9c6709cacac8",
   "metadata": {},
   "source": [
    "# Verificando se a palavra correta foi encontrada"
   ]
  },
  {
   "cell_type": "code",
   "execution_count": 42,
   "id": "65b353ef-e5bd-4a5f-8e13-1a4549a249a5",
   "metadata": {
    "tags": []
   },
   "outputs": [],
   "source": [
    "#Calcular a frequência de palavras no corpus\n",
    "frequencia= nltk.FreqDist(lista_normalizada)\n",
    "#frequencia.most_common(10)\n",
    "#frequencia['lógica']\n",
    "\n",
    "\n",
    "#Calcular o total de palavras,incluindo as repetições\n",
    "total_palavras = len(lista_normalizada)"
   ]
  },
  {
   "cell_type": "code",
   "execution_count": 43,
   "id": "3c979628-3802-4446-a63a-8e2f210ea5ee",
   "metadata": {
    "tags": []
   },
   "outputs": [],
   "source": [
    "def probabilidade(palavra_gerada):\n",
    "    return frequencia[palavra_gerada]/total_palavras\n"
   ]
  },
  {
   "cell_type": "code",
   "execution_count": 44,
   "id": "87e55290-1508-4c16-9313-7edbb0bcfebd",
   "metadata": {
    "tags": []
   },
   "outputs": [
    {
     "data": {
      "text/plain": [
       "0.00023815194093831864"
      ]
     },
     "execution_count": 44,
     "metadata": {},
     "output_type": "execute_result"
    }
   ],
   "source": [
    "#Testando a função probabilidade\n",
    "probabilidade('lógica')"
   ]
  },
  {
   "cell_type": "code",
   "execution_count": 45,
   "id": "3b7fd936-56e2-4383-b266-4de86a1476b7",
   "metadata": {
    "tags": []
   },
   "outputs": [],
   "source": [
    "def corretor(palavra):\n",
    "    palavras_geradas = gerador_palavras(palavra)\n",
    "    palavra_correta = max(palavras_geradas,key=probabilidade)\n",
    "    return palavra_correta"
   ]
  },
  {
   "cell_type": "code",
   "execution_count": 23,
   "id": "c19f2ec2-abdd-4d8f-a146-d4c42dc61df2",
   "metadata": {
    "tags": []
   },
   "outputs": [
    {
     "ename": "NameError",
     "evalue": "name 'palavra_exemplo' is not defined",
     "output_type": "error",
     "traceback": [
      "\u001b[0;31m---------------------------------------------------------------------------\u001b[0m",
      "\u001b[0;31mNameError\u001b[0m                                 Traceback (most recent call last)",
      "Cell \u001b[0;32mIn[23], line 2\u001b[0m\n\u001b[1;32m      1\u001b[0m \u001b[38;5;66;03m#Testando a função corretor\u001b[39;00m\n\u001b[0;32m----> 2\u001b[0m corretor(\u001b[43mpalavra_exemplo\u001b[49m)\n",
      "\u001b[0;31mNameError\u001b[0m: name 'palavra_exemplo' is not defined"
     ]
    }
   ],
   "source": [
    "#Testando a função corretor\n",
    "#corretor(palavra_exemplo)"
   ]
  },
  {
   "cell_type": "code",
   "execution_count": 46,
   "id": "e7b8287e-dff6-474f-afdd-03e5e7d8f7c3",
   "metadata": {
    "tags": []
   },
   "outputs": [
    {
     "data": {
      "text/plain": [
       "'bola'"
      ]
     },
     "execution_count": 46,
     "metadata": {},
     "output_type": "execute_result"
    }
   ],
   "source": [
    "corretor('bla')"
   ]
  },
  {
   "cell_type": "markdown",
   "id": "49b7ef15-6d91-4871-a999-68e1e02e018e",
   "metadata": {},
   "source": [
    "# Criando um avaliador de corretor"
   ]
  },
  {
   "cell_type": "code",
   "execution_count": 47,
   "id": "084f0417-c5e0-489d-971b-38eeca2af67e",
   "metadata": {
    "tags": []
   },
   "outputs": [],
   "source": [
    "def cria_dados_teste(nome_arquivo):\n",
    "    lista_palavras_teste = []\n",
    "    f = open(nome_arquivo, \"r\")\n",
    "    for linha in f:\n",
    "        correta, errada = linha.split()\n",
    "        lista_palavras_teste.append((correta, errada))\n",
    "    f.close()\n",
    "    return lista_palavras_teste"
   ]
  },
  {
   "cell_type": "code",
   "execution_count": 48,
   "id": "375347cb-0fa4-4bb5-9d81-6faa88118fd8",
   "metadata": {
    "tags": []
   },
   "outputs": [
    {
     "data": {
      "text/plain": [
       "[('podemos', 'pyodemos'),\n",
       " ('esse', 'esje'),\n",
       " ('já', 'jrá'),\n",
       " ('nosso', 'nossov'),\n",
       " ('são', 'sãêo'),\n",
       " ('dos', 'dosa'),\n",
       " ('muito', 'muifo'),\n",
       " ('imagem', 'iômagem'),\n",
       " ('sua', 'ósua'),\n",
       " ('também', 'tambéùm'),\n",
       " ('ele', 'eme'),\n",
       " ('fazer', 'èazer'),\n",
       " ('temos', 'temfs'),\n",
       " ('essa', 'eàssa'),\n",
       " ('quando', 'quaôdo'),\n",
       " ('vamos', 'vamvos'),\n",
       " ('sobre', 'hsobre'),\n",
       " ('java', 'sjava'),\n",
       " ('das', 'daõs'),\n",
       " ('agora', 'agorah'),\n",
       " ('está', 'eòtá'),\n",
       " ('cada', 'céda'),\n",
       " ('mesmo', 'zmesmo'),\n",
       " ('nos', 'noâ'),\n",
       " ('forma', 'fobma'),\n",
       " ('seja', 'sejéa'),\n",
       " ('então', 'enêão'),\n",
       " ('criar', 'èriar'),\n",
       " ('código', 'cóeigo'),\n",
       " ('caso', 'casío'),\n",
       " ('exemplo', 'áexemplo'),\n",
       " ('tem', 'tĩem'),\n",
       " ('usuário', 'usuárôio'),\n",
       " ('dados', 'dfados'),\n",
       " ('python', 'pgthon'),\n",
       " ('nossa', 'nossah'),\n",
       " ('além', 'alémè'),\n",
       " ('assim', 'asõim'),\n",
       " ('ter', 'teb'),\n",
       " ('até', 'atĩ'),\n",
       " ('bem', 'âem'),\n",
       " ('design', 'desigen'),\n",
       " ('trabalho', 'trabalàho'),\n",
       " ('foi', 'foo'),\n",
       " ('apenas', 'apenaũ'),\n",
       " ('empresa', 'empresà'),\n",
       " ('valor', 'valíor'),\n",
       " ('será', 'serr'),\n",
       " ('entre', 'entke'),\n",
       " ('método', 'méqodo'),\n",
       " ('precisamos', 'precisamops'),\n",
       " ('ainda', 'ainàa'),\n",
       " ('vai', 'van'),\n",
       " ('conteúdo', 'ûconteúdo'),\n",
       " ('seus', 'çeus'),\n",
       " ('eu', 'eû'),\n",
       " ('todos', 'todtos'),\n",
       " ('tempo', 'temeo'),\n",
       " ('sempre', 'semre'),\n",
       " ('qual', 'quakl'),\n",
       " ('ela', 'elaá'),\n",
       " ('só', 'síó'),\n",
       " ('utilizar', 'utiqizar'),\n",
       " ('projeto', 'prhojeto'),\n",
       " ('site', 'siàe'),\n",
       " ('sem', 'seém'),\n",
       " ('pelo', 'peln'),\n",
       " ('alura', 'aléra'),\n",
       " ('dia', 'tdia'),\n",
       " ('tudo', 'tuúo'),\n",
       " ('podemos', 'kpodemos'),\n",
       " ('esse', 'eẽsse'),\n",
       " ('já', 'jé'),\n",
       " ('nosso', 'nçosso'),\n",
       " ('são', 'sãô'),\n",
       " ('dos', 'odos'),\n",
       " ('muito', 'tuito'),\n",
       " ('imagem', 'imõgem'),\n",
       " ('sua', 'siua'),\n",
       " ('também', 'tamvbém'),\n",
       " ('ele', 'elpe'),\n",
       " ('fazer', 'façzer'),\n",
       " ('temos', 'teos'),\n",
       " ('essa', 'eũsa'),\n",
       " ('quando', 'quaìdo'),\n",
       " ('vamos', 'vjmos'),\n",
       " ('sobre', 'sxobre'),\n",
       " ('java', 'jkva'),\n",
       " ('das', 'dms'),\n",
       " ('agora', 'agtora'),\n",
       " ('está', 'esútá'),\n",
       " ('cada', 'cava'),\n",
       " ('mesmo', 'medmo'),\n",
       " ('nos', 'ános'),\n",
       " ('forma', 'forûa'),\n",
       " ('seja', 'smeja'),\n",
       " ('então', 'enjtão'),\n",
       " ('criar', 'criôar'),\n",
       " ('código', 'cóàigo'),\n",
       " ('caso', 'èaso'),\n",
       " ('exemplo', 'exbemplo'),\n",
       " ('tem', 'túem'),\n",
       " ('usuário', 'usuárin'),\n",
       " ('dados', 'daáos'),\n",
       " ('python', 'pythoçn'),\n",
       " ('nossa', 'nossk'),\n",
       " ('além', 'âlém'),\n",
       " ('assim', 'aóssim'),\n",
       " ('ter', 'tãer'),\n",
       " ('até', 'vté'),\n",
       " ('bem', 'búm'),\n",
       " ('design', 'íesign'),\n",
       " ('trabalho', 'trabèalho'),\n",
       " ('foi', 'kfoi'),\n",
       " ('apenas', 'aapenas'),\n",
       " ('empresa', 'pmpresa'),\n",
       " ('valor', 'valoqr'),\n",
       " ('será', 'sçerá'),\n",
       " ('entre', 'entró'),\n",
       " ('método', 'nétodo'),\n",
       " ('precisamos', 'prefcisamos'),\n",
       " ('ainda', 'sainda'),\n",
       " ('vai', 'uai'),\n",
       " ('conteúdo', 'cĩonteúdo'),\n",
       " ('seus', 'sâus'),\n",
       " ('eu', 'ìeu'),\n",
       " ('todos', 'todás'),\n",
       " ('tempo', 'utempo'),\n",
       " ('sempre', 'sempce'),\n",
       " ('qual', 'fual'),\n",
       " ('ela', 'elal'),\n",
       " ('só', 'skó'),\n",
       " ('utilizar', 'utilĩzar'),\n",
       " ('projeto', 'proójeto'),\n",
       " ('site', 'isite'),\n",
       " ('sem', 'secm'),\n",
       " ('pelo', 'pẽlo'),\n",
       " ('alura', 'aluéa'),\n",
       " ('dia', 'dil'),\n",
       " ('tudo', 'tudy'),\n",
       " ('ela', 'qelay'),\n",
       " ('só', 'sód'),\n",
       " ('utilizar', 'dtilizacr'),\n",
       " ('projeto', 'bprojõto'),\n",
       " ('site', 'ysiteo'),\n",
       " ('sem', 'sõêm'),\n",
       " ('pelo', 'peàli'),\n",
       " ('alura', 'asuraó'),\n",
       " ('dia', 'deiìa'),\n",
       " ('tudo', 'tuĩdoì'),\n",
       " ('ela', 'eúaa'),\n",
       " ('só', 'ró'),\n",
       " ('utilizar', 'utilizẽaçr'),\n",
       " ('projeto', 'prêjetó'),\n",
       " ('site', 'sqiqte'),\n",
       " ('sem', 'sũexm'),\n",
       " ('pelo', 'pçlxo'),\n",
       " ('alura', 'uluraa'),\n",
       " ('dia', 'dĩaz'),\n",
       " ('tudo', 'kzudo'),\n",
       " ('corretor', 'correptor'),\n",
       " ('tática', 'trtica'),\n",
       " ('empoderamento', 'ewpoderamento'),\n",
       " ('linux', 'lifux'),\n",
       " ('cachorro', 'cachoçro'),\n",
       " ('gato', 'îgato'),\n",
       " ('cavalo', 'cakvalo'),\n",
       " ('relógio', 'relógiuo'),\n",
       " ('canela', 'canelac'),\n",
       " ('tênis', 'tênisy'),\n",
       " ('ansiosa', 'anciosa'),\n",
       " ('ansiosa', 'ancciosa'),\n",
       " ('ansiosa', 'ansioa'),\n",
       " ('empoderamento', 'empoderamento'),\n",
       " ('asterisco', 'asterístico'),\n",
       " ('gratuito', 'gratuíto'),\n",
       " ('entretido', 'entertido'),\n",
       " ('ritmo', 'ritimo'),\n",
       " ('idiota', 'indiota'),\n",
       " ('tomara', 'tomare'),\n",
       " ('seja', 'seje'),\n",
       " ('prevalecer', 'provalecer'),\n",
       " ('esteja', 'esteje'),\n",
       " ('mendigo', 'mindigo'),\n",
       " ('cérebro', 'célebro'),\n",
       " ('perturbar', 'pertubar')]"
      ]
     },
     "execution_count": 48,
     "metadata": {},
     "output_type": "execute_result"
    }
   ],
   "source": [
    "lista_teste = cria_dados_teste(\"dados/palavras.txt\")\n",
    "lista_teste"
   ]
  },
  {
   "cell_type": "code",
   "execution_count": 49,
   "id": "f2e5bc94-7f84-480b-ac02-ede204e263fa",
   "metadata": {
    "tags": []
   },
   "outputs": [],
   "source": [
    "# Para ficar mais genérica e comparar versões do corretor, alterei a função para o modelo ser uma entrada\n",
    "def avaliador(testes,modelo=corretor):\n",
    "    numero_de_palavras =len(testes)\n",
    "    acertou=0\n",
    "    for correta, errada in testes:\n",
    "        palavra_corrigida=modelo(errada)\n",
    "        if palavra_corrigida == correta:\n",
    "            acertou +=1\n",
    "        \n",
    "    taxa_acerto = round((acertou/numero_de_palavras)*100,2)\n",
    "    print(f\"{taxa_acerto}% de {numero_de_palavras} palavras\")"
   ]
  },
  {
   "cell_type": "code",
   "execution_count": 50,
   "id": "a7cc7ba7-f30d-471e-be4c-f3ab7d834b81",
   "metadata": {
    "tags": []
   },
   "outputs": [
    {
     "name": "stdout",
     "output_type": "stream",
     "text": [
      "1.08% de 186 palavras\n"
     ]
    }
   ],
   "source": [
    "avaliador(lista_teste)"
   ]
  },
  {
   "cell_type": "markdown",
   "id": "d8a7ab19-c5aa-48df-ad25-c3c14166fa91",
   "metadata": {},
   "source": [
    "# Corretor v2\n",
    "\n",
    "Agora ele deve entender inserções erradas"
   ]
  },
  {
   "cell_type": "code",
   "execution_count": 51,
   "id": "3c98fb23-9050-4a61-99ee-18fbb211cee1",
   "metadata": {
    "tags": []
   },
   "outputs": [],
   "source": [
    "def deleta_letras(fatias):\n",
    "    novas_palavras = []\n",
    "    for E,D in fatias:\n",
    "        novas_palavras.append(E + D[1:])\n",
    "    return novas_palavras"
   ]
  },
  {
   "cell_type": "code",
   "execution_count": 52,
   "id": "3a0d134d-e1d2-4e89-a99d-aa4601a0e160",
   "metadata": {
    "tags": []
   },
   "outputs": [],
   "source": [
    "def gerador_palavras_v2(palavra):\n",
    "    fatias = []\n",
    "    for i in range(len(palavra)+1):\n",
    "        fatias.append((palavra[:i],palavra[i:]))\n",
    "    #print(fatias)\n",
    "    palavras_geradas = insere_letras(fatias)\n",
    "    palavras_geradas += deleta_letras(fatias)\n",
    "    return palavras_geradas"
   ]
  },
  {
   "cell_type": "code",
   "execution_count": 53,
   "id": "9bfbd572-db10-47c5-a566-91fdfda8c57b",
   "metadata": {
    "tags": []
   },
   "outputs": [],
   "source": [
    "#Testar gerador_palavras_v2\n",
    "palavras_geradas= gerador_palavras_v2(\"lóigica\")\n",
    "#palavras_geradas"
   ]
  },
  {
   "cell_type": "code",
   "execution_count": 54,
   "id": "9c545cd2-6526-44d9-880a-b700ede8be09",
   "metadata": {
    "tags": []
   },
   "outputs": [],
   "source": [
    "def corretorV2(palavra):\n",
    "    palavras_geradas = gerador_palavras_v2(palavra)\n",
    "    palavra_correta = max(palavras_geradas,key=probabilidade)\n",
    "    return palavra_correta"
   ]
  },
  {
   "cell_type": "code",
   "execution_count": 55,
   "id": "56c665ee-1ff2-489f-8ef5-c905ec8689e0",
   "metadata": {
    "tags": []
   },
   "outputs": [
    {
     "name": "stdout",
     "output_type": "stream",
     "text": [
      "41.4% de 186 palavras\n"
     ]
    }
   ],
   "source": [
    "avaliador(lista_teste,corretorV2)"
   ]
  },
  {
   "cell_type": "markdown",
   "id": "929f1d71-83f6-4982-83ef-d4373aaffe19",
   "metadata": {
    "tags": []
   },
   "source": [
    "# Corretor V3\n",
    "\n",
    "Agora é necessária uma função que troque os caracteres.\n"
   ]
  },
  {
   "cell_type": "code",
   "execution_count": 56,
   "id": "b5a0bc3b-0438-44ce-b12f-210232563bf8",
   "metadata": {
    "tags": []
   },
   "outputs": [],
   "source": [
    "def troca_letras(fatias):\n",
    "    novas_palavras = []\n",
    "    letras = 'abcdefghijklmnopqrstuvwxyzàáâãèéêìíîòóôõùúûç'  \n",
    "    for E,D in fatias:\n",
    "        for letra in letras:\n",
    "            novas_palavras.append(E + letra + D[1:])\n",
    "    return novas_palavras"
   ]
  },
  {
   "cell_type": "code",
   "execution_count": 57,
   "id": "9e87b3e5-798b-4d86-8843-9a2adef3a443",
   "metadata": {
    "tags": []
   },
   "outputs": [],
   "source": [
    "def gerador_palavras_v3(palavra):\n",
    "    fatias = []\n",
    "    for i in range(len(palavra)+1):\n",
    "        fatias.append((palavra[:i],palavra[i:]))\n",
    "    #print(fatias)\n",
    "    palavras_geradas = insere_letras(fatias)\n",
    "    palavras_geradas += deleta_letras(fatias)\n",
    "    palavras_geradas += troca_letras(fatias)\n",
    "    return palavras_geradas"
   ]
  },
  {
   "cell_type": "code",
   "execution_count": 58,
   "id": "8216d37e-9584-4476-b024-6498d275ab6e",
   "metadata": {
    "tags": []
   },
   "outputs": [],
   "source": [
    "def corretorV3(palavra):\n",
    "    palavras_geradas = gerador_palavras_v3(palavra)\n",
    "    palavra_correta = max(palavras_geradas,key=probabilidade)\n",
    "    return palavra_correta\n"
   ]
  },
  {
   "cell_type": "code",
   "execution_count": 59,
   "id": "400d6cff-42e2-4e2f-ac8c-262395405554",
   "metadata": {
    "tags": []
   },
   "outputs": [
    {
     "name": "stdout",
     "output_type": "stream",
     "text": [
      "76.34% de 186 palavras\n"
     ]
    }
   ],
   "source": [
    "#Avaliando o corretor\n",
    "avaliador(lista_teste,corretorV3)"
   ]
  },
  {
   "cell_type": "markdown",
   "id": "f1dbed59-d5b6-4565-b24d-6a49ecd296f3",
   "metadata": {},
   "source": [
    "# Corretor V4\n",
    "\n",
    "O nosso novo corretor deve poder capaz ser identificar caracteres com ordem trocada."
   ]
  },
  {
   "cell_type": "code",
   "execution_count": 60,
   "id": "374dbde8-df69-410c-ab94-8903a5218ec1",
   "metadata": {
    "tags": []
   },
   "outputs": [],
   "source": [
    "def inverte_letras(fatias):\n",
    "    novas_palavras = []\n",
    "    for E,D in fatias:\n",
    "        if len(D) > 1:\n",
    "            novas_palavras.append(E + D[1] +D[0] + D[2:])\n",
    "    return novas_palavras\n",
    "\n",
    "def gerador_palavras_v4(palavra):\n",
    "    fatias = []\n",
    "    for i in range(len(palavra)+1):\n",
    "        fatias.append((palavra[:i],palavra[i:]))\n",
    "    #print(fatias)\n",
    "    palavras_geradas = insere_letras(fatias)\n",
    "    palavras_geradas += deleta_letras(fatias)\n",
    "    palavras_geradas += troca_letras(fatias)\n",
    "    palavras_geradas += inverte_letras(fatias)\n",
    "    return palavras_geradas\n",
    "\n",
    "def corretorV4(palavra):\n",
    "    palavras_geradas = gerador_palavras_v4(palavra)\n",
    "    palavra_correta = max(palavras_geradas,key=probabilidade)\n",
    "    return palavra_correta"
   ]
  },
  {
   "cell_type": "code",
   "execution_count": 61,
   "id": "819763ec-a03c-49b1-98ab-e364e29774fe",
   "metadata": {
    "tags": []
   },
   "outputs": [
    {
     "name": "stdout",
     "output_type": "stream",
     "text": [
      "76.34% de 186 palavras\n"
     ]
    }
   ],
   "source": [
    "#corretorV4('lógiac')\n",
    "avaliador(testes=lista_teste,modelo=corretorV4)"
   ]
  },
  {
   "cell_type": "code",
   "execution_count": 62,
   "id": "4836b07b-8a88-4722-b6f8-5bc1fe248299",
   "metadata": {
    "tags": []
   },
   "outputs": [],
   "source": [
    "# Todas as funções\n",
    "\n",
    "# Corpus\n",
    "\n",
    "def normalizacao(lista_palavras):\n",
    "    lista_normalizada = []\n",
    "    for palavra in lista_palavras:\n",
    "        lista_normalizada.append(palavra.lower())\n",
    "    return lista_normalizada\n",
    "\n",
    "def separa_palavras(lista_tokens):\n",
    "    lista_palavras=[]\n",
    "    for token in lista_tokens:\n",
    "        if token.isalpha():\n",
    "            lista_palavras.append(token)\n",
    "    return lista_palavras\n",
    "\n",
    "def probabilidade(palavra_gerada):\n",
    "    return frequencia[palavra_gerada]/total_palavras\n",
    "\n",
    "\n",
    "lista_normalizada = normalizacao(lista_palavras)\n",
    "frequencia= nltk.FreqDist(lista_normalizada)\n",
    "total_palavras = len(lista_normalizada)\n",
    "\n",
    "#Corretor\n",
    "def insere_letras(fatias):\n",
    "    novas_palavras = []\n",
    "    letras = 'abcdefghijklmnopqrstuvwxyzàáâãèéêìíîòóôõùúûç'\n",
    "    for E,D in fatias:\n",
    "        for letra in letras:\n",
    "            novas_palavras.append(E + letra + D)\n",
    "    return novas_palavras\n",
    "\n",
    "\n",
    "def deleta_letras(fatias):\n",
    "    novas_palavras = []\n",
    "    for E,D in fatias:\n",
    "        novas_palavras.append(E + D[1:])\n",
    "    return novas_palavras\n",
    "\n",
    "def troca_letras(fatias):\n",
    "    novas_palavras = []\n",
    "    letras = 'abcdefghijklmnopqrstuvwxyzàáâãèéêìíîòóôõùúûç'  \n",
    "    for E,D in fatias:\n",
    "        for letra in letras:\n",
    "            novas_palavras.append(E + letra + D[1:])\n",
    "    return novas_palavras\n",
    "\n",
    "def inverte_letras(fatias):\n",
    "    novas_palavras = []\n",
    "    for E,D in fatias:\n",
    "        if len(D) > 1:\n",
    "            novas_palavras.append(E + D[1] +D[0] + D[2:])\n",
    "    return novas_palavras\n",
    "\n",
    "def gerador_palavras(palavra):\n",
    "    fatias = []\n",
    "    for i in range(len(palavra)+1):\n",
    "        fatias.append((palavra[:i],palavra[i:]))\n",
    "   \n",
    "    palavras_geradas = insere_letras(fatias)\n",
    "    palavras_geradas += deleta_letras(fatias)\n",
    "    palavras_geradas += troca_letras(fatias)\n",
    "    palavras_geradas += inverte_letras(fatias)\n",
    "    return palavras_geradas\n",
    "\n",
    "def corretor(palavra):\n",
    "    palavras_geradas = gerador_palavras(palavra)\n",
    "    palavra_correta = max(palavras_geradas,key=probabilidade)\n",
    "    return palavra_correta\n",
    "\n",
    "# Avaliador\n",
    "def cria_dados_teste(nome_arquivo):\n",
    "    lista_palavras_teste = []\n",
    "    f = open(nome_arquivo, \"r\")\n",
    "    for linha in f:\n",
    "        correta, errada = linha.split()\n",
    "        lista_palavras_teste.append((correta, errada))\n",
    "    f.close()\n",
    "    return lista_palavras_teste\n",
    "\n",
    "def avaliador(testes,modelo=corretor):\n",
    "    numero_de_palavras =len(testes)\n",
    "    acertou=0\n",
    "    for correta, errada in testes:\n",
    "        palavra_corrigida=modelo(errada)\n",
    "        if palavra_corrigida == correta:\n",
    "            acertou +=1\n",
    "        \n",
    "    taxa_acerto = round((acertou/numero_de_palavras)*100,2)\n",
    "    return print(f\"{taxa_acerto}% de {numero_de_palavras} palavras\")"
   ]
  },
  {
   "cell_type": "markdown",
   "id": "4c32de98-2a06-408b-a01f-18c143305fa1",
   "metadata": {},
   "source": [
    "# Quantas Palavras o nosso modelo desconhece?"
   ]
  },
  {
   "cell_type": "code",
   "execution_count": 88,
   "id": "8f57c8e2-642a-448e-96a7-eff81acd7e9c",
   "metadata": {
    "tags": []
   },
   "outputs": [],
   "source": [
    "def avaliador(testes,vocabulario,modelo=corretor):\n",
    "    \n",
    "    numero_de_palavras =len(testes)\n",
    "    acertou=0\n",
    "    desconhecida=0\n",
    "    \n",
    "    for correta, errada in testes:\n",
    "        palavra_corrigida=modelo(errada)\n",
    "        desconhecida += (correta not in vocabulario)\n",
    "        if palavra_corrigida == correta:\n",
    "            acertou +=1\n",
    "                \n",
    "    taxa_acerto = round((acertou/numero_de_palavras)*100,2)\n",
    "    taxa_desconhecida= round((desconhecida/numero_de_palavras)*100,2)\n",
    "    return print(f\"\"\"A taxa de é {taxa_acerto}% em {numero_de_palavras} palavras.\n",
    "                 E a taxa de palavras desconhecidas é {taxa_desconhecida}%\"\"\")"
   ]
  },
  {
   "cell_type": "code",
   "execution_count": 70,
   "id": "d149332b-2d7c-45d7-8237-9ecdfdf46247",
   "metadata": {
    "tags": []
   },
   "outputs": [
    {
     "name": "stdout",
     "output_type": "stream",
     "text": [
      "A taxa de é 76.34% em 186 palavras.\n",
      "                 E a taxa de palavras desconhecidas é 6.99%\n"
     ]
    }
   ],
   "source": [
    "#vocabulario =set(lista_normalizada) # Retira as repetições\n",
    "\n",
    "avaliador(lista_teste,vocabulario,corretor)"
   ]
  },
  {
   "cell_type": "markdown",
   "id": "e354bc07-aa03-4d09-88b3-acc525d1c189",
   "metadata": {},
   "source": [
    "# Corretor que resolve mais de um erro"
   ]
  },
  {
   "cell_type": "code",
   "execution_count": 71,
   "id": "9620027c-2a12-4b64-9bca-fcd47ecab0eb",
   "metadata": {
    "tags": []
   },
   "outputs": [],
   "source": [
    "def gerador_turbinado(palavras_geradas):\n",
    "    novas_palavras= []\n",
    "    for palavra in palavras_geradas:\n",
    "        novas_palavras += gerador_palavras(palavra)\n",
    "    return novas_palavras\n"
   ]
  },
  {
   "cell_type": "code",
   "execution_count": 73,
   "id": "7abdfa4a-e852-4703-8e0b-2ee2b4bc43ce",
   "metadata": {
    "tags": []
   },
   "outputs": [
    {
     "data": {
      "text/plain": [
       "691744"
      ]
     },
     "execution_count": 73,
     "metadata": {},
     "output_type": "execute_result"
    }
   ],
   "source": [
    "palavra =\"lóiigica\"\n",
    "\n",
    "palavras_g= gerador_turbinado(gerador_palavras(palavra))\n",
    "#\"lógica\" in palavras_g\n",
    "len(palavras_g)"
   ]
  },
  {
   "cell_type": "code",
   "execution_count": 81,
   "id": "a222ba57-ecd0-4bba-bf83-6b2ff0efe58f",
   "metadata": {
    "tags": []
   },
   "outputs": [],
   "source": [
    "def novo_corretor(palavra):\n",
    "    palavras_geradas = gerador_palavras(palavra)\n",
    "    palavras_geradas_turbinado=gerador_turbinado(palavras_geradas)\n",
    "    todas_palavras = set(palavras_geradas + palavras_geradas_turbinado)\n",
    "    candidatos = [palavra]\n",
    "    for palavra in todas_palavras:\n",
    "        if palavra in vocabulario:\n",
    "            candidatos.append(palavra)\n",
    "    #print(len(candidatos))\n",
    "    palavra_correta = max(candidatos,key=probabilidade)\n",
    "    return palavra_correta"
   ]
  },
  {
   "cell_type": "code",
   "execution_count": 86,
   "id": "566622f9-7957-4eaa-87d9-8af5a5c4414a",
   "metadata": {
    "tags": []
   },
   "outputs": [
    {
     "data": {
      "text/plain": [
       "'looogica'"
      ]
     },
     "execution_count": 86,
     "metadata": {},
     "output_type": "execute_result"
    }
   ],
   "source": [
    "novo_corretor('looogica')"
   ]
  },
  {
   "cell_type": "markdown",
   "id": "7c01b9d8-99ca-4963-83e5-3e561b9f4ccd",
   "metadata": {},
   "source": [
    "# Avaliando o novo corretor"
   ]
  },
  {
   "cell_type": "code",
   "execution_count": 89,
   "id": "3a052440-4950-4735-8243-90bacbe44f1f",
   "metadata": {
    "tags": []
   },
   "outputs": [
    {
     "name": "stdout",
     "output_type": "stream",
     "text": [
      "A taxa de é 76.34% em 186 palavras.\n",
      "                 E a taxa de palavras desconhecidas é 6.99%\n",
      "A taxa de é 55.38% em 186 palavras.\n",
      "                 E a taxa de palavras desconhecidas é 6.99%\n"
     ]
    }
   ],
   "source": [
    "vocabulario =set(lista_normalizada)\n",
    "\n",
    "avaliador(lista_teste,vocabulario,corretor)\n",
    "avaliador(lista_teste,vocabulario,novo_corretor)"
   ]
  },
  {
   "cell_type": "code",
   "execution_count": null,
   "id": "550041a7-decb-46c1-a38b-311fce9a2d0d",
   "metadata": {},
   "outputs": [],
   "source": []
  }
 ],
 "metadata": {
  "kernelspec": {
   "display_name": "nlp",
   "language": "python",
   "name": "nlp"
  },
  "language_info": {
   "codemirror_mode": {
    "name": "ipython",
    "version": 3
   },
   "file_extension": ".py",
   "mimetype": "text/x-python",
   "name": "python",
   "nbconvert_exporter": "python",
   "pygments_lexer": "ipython3",
   "version": "3.10.6"
  }
 },
 "nbformat": 4,
 "nbformat_minor": 5
}
